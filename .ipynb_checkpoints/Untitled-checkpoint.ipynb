{
 "cells": [
  {
   "cell_type": "code",
   "execution_count": 119,
   "metadata": {},
   "outputs": [],
   "source": [
    "import numpy as np\n",
    "from numpy.random import binomial\n",
    "import math\n",
    "\n",
    "def log(x):\n",
    "\treturn math.log(x, 2)\n",
    "\n",
    "\n",
    "#calculates entropy for given bernoullie distribution of rate p\n",
    "def calculate_entropy(p):\n",
    "\treturn -(p*log(p)+ (1-p)*log(1-p))\n",
    "\n",
    "\n",
    "#visualization of entropy of a bernoullie random variable \n",
    "def Entropy_visual(maxVal):\n",
    "    x=[]\n",
    "    I = []\n",
    "    for i in range(1, maxVal):\n",
    "        I.append(i/maxVal)\n",
    "        x.append(calculate_entropy(i/maxVal))\n",
    "    return x, I\n",
    "\n",
    "# Generate a sequence of binomial strings given an input length. Return type list\n",
    "\n",
    "def genseq_2(Len,p):\n",
    "    I=[]\n",
    "    for i in range(Len):\n",
    "        I.append(binomial(n=1, p=p))\n",
    "    return I\n",
    "\n",
    "def generate_sequence(Len, p):\n",
    "\treturn binomial(n=1, p=p,size=Len)\n",
    "\n",
    "def sample_mean_log_prob(sequence_vector, p):\n",
    "\tsum = 0\n",
    "\tfor x in sequence_vector:\n",
    "\t\tsum += (log(p) if x==1 else log(1-p))\n",
    "\treturn -sum/len(sequence_vector)\n"
   ]
  },
  {
   "cell_type": "code",
   "execution_count": 120,
   "metadata": {},
   "outputs": [],
   "source": []
  },
  {
   "cell_type": "code",
   "execution_count": 141,
   "metadata": {},
   "outputs": [],
   "source": [
    "x, I = Entropy_visual(500)"
   ]
  },
  {
   "cell_type": "code",
   "execution_count": 148,
   "metadata": {},
   "outputs": [],
   "source": [
    "Len =  10000\n",
    "x_=[]\n",
    "for i in I:\n",
    "    x_.append(sample_mean_log_prob(generate_sequence(Len, i),i))"
   ]
  },
  {
   "cell_type": "code",
   "execution_count": 149,
   "metadata": {},
   "outputs": [
    {
     "data": {
      "image/png": "[encoded data removed]",
      "text/plain": [
       "<Figure size 432x288 with 1 Axes>"
      ]
     },
     "metadata": {
      "needs_background": "light"
     },
     "output_type": "display_data"
    }
   ],
   "source": [
    "plt.plot(I, x)\n",
    "plt.plot(I,x_)\n",
    "plt.show()"
   ]
  },
  {
   "cell_type": "code",
   "execution_count": null,
   "metadata": {},
   "outputs": [],
   "source": []
  }
 ],
 "metadata": {
  "kernelspec": {
   "display_name": "Python [conda env:btpenv] *",
   "language": "python",
   "name": "conda-env-btpenv-py"
  },
  "language_info": {
   "codemirror_mode": {
    "name": "ipython",
    "version": 3
   },
   "file_extension": ".py",
   "mimetype": "text/x-python",
   "name": "python",
   "nbconvert_exporter": "python",
   "pygments_lexer": "ipython3",
   "version": "3.7.4"
  }
 },
 "nbformat": 4,
 "nbformat_minor": 2
}
